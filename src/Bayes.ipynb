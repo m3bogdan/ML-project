{
 "cells": [
  {
   "cell_type": "code",
   "execution_count": null,
   "metadata": {},
   "outputs": [],
   "source": [
    "data = np.load(\"/Users/bogdancristianmihaila/Desktop/3rd Semester/ML-project/data/fashion_train.npy\")\n",
    "X = data[:, :-1]  # All rows, first 784 columns\n",
    "y = data[:, -1]   # All rows, last column\n",
    "print(X.shape)\n",
    "print(y.shape)"
   ]
  },
  {
   "cell_type": "code",
   "execution_count": null,
   "metadata": {},
   "outputs": [],
   "source": [
    "import numpy as np\n",
    "from scipy.stats import norm\n",
    "\n",
    "class NaiveBayesClassifier:\n",
    "    def __init__(self):\n",
    "        self.class_priors = None\n",
    "        self.summary_stats = None\n",
    "\n",
    "    def fit(self, X, y):\n",
    "        \"\"\" Fit the model to the training data. \"\"\"\n",
    "        # Separate the data by class\n",
    "        unique_classes = np.unique(y)\n",
    "        separated_data = {cls: X[y == cls] for cls in unique_classes}\n",
    "\n",
    "        # Calculate prior probabilities and summary statistics for each class\n",
    "        self.class_priors = {cls: len(separated_data[cls]) / len(X) for cls in unique_classes}\n",
    "        self.summary_stats = {cls: [(np.mean(feature), np.std(feature))\n",
    "                                    for feature in zip(*separated_data[cls])]\n",
    "                              for cls in unique_classes}\n",
    "\n",
    "    def predict(self, X):\n",
    "        \"\"\" Make predictions for test data. \"\"\"\n",
    "        predictions = []\n",
    "        for x in X:\n",
    "            class_probs = self.calculate_class_probabilities(x)\n",
    "            best_class = max(class_probs, key=class_probs.get)\n",
    "            predictions.append(best_class)\n",
    "        return predictions\n",
    "\n",
    "    def calculate_class_probabilities(self, x):\n",
    "        \"\"\" Calculate the class probabilities for a given data point. \"\"\"\n",
    "        class_probs = {}\n",
    "        for cls, class_prior in self.class_priors.items():\n",
    "            class_probs[cls] = class_prior\n",
    "            for i, (mean, std) in enumerate(self.summary_stats[cls]):\n",
    "                class_probs[cls] *= norm.pdf(x[i], mean, std)\n",
    "\n",
    "        return class_probs\n",
    "\n",
    "# Example usage:\n",
    "# nb = NaiveBayesClassifier()\n",
    "# nb.fit(X_train, y_train)\n",
    "# predictions = nb.predict(X_test)\n"
   ]
  }
 ],
 "metadata": {
  "language_info": {
   "name": "python"
  }
 },
 "nbformat": 4,
 "nbformat_minor": 2
}
