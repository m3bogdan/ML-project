{
 "cells": [
  {
   "cell_type": "code",
   "execution_count": 6,
   "metadata": {},
   "outputs": [],
   "source": [
    "# imports\n",
    "import pandas as pd\n",
    "import numpy as np\n",
    "import matplotlib.pyplot as plt\n",
    "import plotly as py\n",
    "import seaborn as sns"
   ]
  },
  {
   "cell_type": "code",
   "execution_count": 7,
   "metadata": {},
   "outputs": [],
   "source": [
    "# read in data with numpy\n",
    "data = np.load(\"/Users/bogdancristianmihaila/Desktop/3rd Semester/ML-project/data/fashion_train.npy\")\n",
    "\n",
    "# t_shirt_list = []\n",
    "# trouser_list = []\n",
    "# pull_over_list = []\n",
    "# dress_list = []\n",
    "# shirt_list = []\n",
    "\n",
    "# #create subset of data with the different classes\n",
    "# for i in range(len(data)):\n",
    "#     if data[i][-1] == 0:\n",
    "#         t_shirt_list.append(data[i])\n",
    "#     elif data[i][-1] == 1:\n",
    "#         trouser_list.append(data[i])\n",
    "#     elif data[i][-1] == 2:\n",
    "#         pull_over_list.append(data[i])\n",
    "#     elif data[i][-1] == 3:\n",
    "#         dress_list.append(data[i])\n",
    "#     elif data[i][-1] == 4:\n",
    "#         shirt_list.append(data[i])"
   ]
  }
 ],
 "metadata": {
  "kernelspec": {
   "display_name": "Python 3",
   "language": "python",
   "name": "python3"
  },
  "language_info": {
   "codemirror_mode": {
    "name": "ipython",
    "version": 3
   },
   "file_extension": ".py",
   "mimetype": "text/x-python",
   "name": "python",
   "nbconvert_exporter": "python",
   "pygments_lexer": "ipython3",
   "version": "3.10.3"
  }
 },
 "nbformat": 4,
 "nbformat_minor": 2
}
